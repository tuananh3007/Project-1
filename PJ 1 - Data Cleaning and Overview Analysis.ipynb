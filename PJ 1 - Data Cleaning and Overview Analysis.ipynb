{
 "cells": [
  {
   "cell_type": "code",
   "execution_count": 2,
   "id": "512493d1-63ec-4662-92d1-9b9cf23a4c51",
   "metadata": {},
   "outputs": [],
   "source": [
    "import pandas as pd\n",
    "import numpy as np\n",
    "import re"
   ]
  },
  {
   "cell_type": "markdown",
   "id": "95b72a61-1cf7-4288-ba04-cc4b8d006cc4",
   "metadata": {},
   "source": [
    "# Import the Data"
   ]
  },
  {
   "cell_type": "code",
   "execution_count": 26,
   "id": "046bbcba-ec3c-4fcc-bff8-dbbe3c9e2492",
   "metadata": {},
   "outputs": [],
   "source": [
    "pro = pd.read_csv(\"product_details.csv\")\n",
    "cus = pd.read_csv(\"customer.csv\")\n",
    "ord = pd.read_csv(\"order_details.csv\")"
   ]
  },
  {
   "cell_type": "markdown",
   "id": "dc2e535a-b1ff-43fc-8886-06c81363297e",
   "metadata": {},
   "source": [
    "# Clean the Data"
   ]
  },
  {
   "cell_type": "markdown",
   "id": "864a04cf-ae65-48bb-81dd-d93870a5166d",
   "metadata": {},
   "source": [
    "### 1. Product Details Data"
   ]
  },
  {
   "cell_type": "code",
   "execution_count": 3,
   "id": "628efd84-0a0c-4033-a304-8221a61ae762",
   "metadata": {},
   "outputs": [
    {
     "data": {
      "text/html": [
       "<div>\n",
       "<style scoped>\n",
       "    .dataframe tbody tr th:only-of-type {\n",
       "        vertical-align: middle;\n",
       "    }\n",
       "\n",
       "    .dataframe tbody tr th {\n",
       "        vertical-align: top;\n",
       "    }\n",
       "\n",
       "    .dataframe thead th {\n",
       "        text-align: right;\n",
       "    }\n",
       "</style>\n",
       "<table border=\"1\" class=\"dataframe\">\n",
       "  <thead>\n",
       "    <tr style=\"text-align: right;\">\n",
       "      <th></th>\n",
       "      <th>Uniqe Id</th>\n",
       "      <th>Product Name</th>\n",
       "      <th>Brand Name</th>\n",
       "      <th>Asin</th>\n",
       "      <th>Category</th>\n",
       "      <th>Upc Ean Code</th>\n",
       "      <th>List Price</th>\n",
       "      <th>Selling Price</th>\n",
       "      <th>Quantity</th>\n",
       "      <th>Model Number</th>\n",
       "      <th>...</th>\n",
       "      <th>Product Url</th>\n",
       "      <th>Stock</th>\n",
       "      <th>Product Details</th>\n",
       "      <th>Dimensions</th>\n",
       "      <th>Color</th>\n",
       "      <th>Ingredients</th>\n",
       "      <th>Direction To Use</th>\n",
       "      <th>Is Amazon Seller</th>\n",
       "      <th>Size Quantity Variant</th>\n",
       "      <th>Product Description</th>\n",
       "    </tr>\n",
       "  </thead>\n",
       "  <tbody>\n",
       "    <tr>\n",
       "      <th>0</th>\n",
       "      <td>4c69b61db1fc16e7013b43fc926e502d</td>\n",
       "      <td>DB Longboards CoreFlex Crossbow 41\" Bamboo Fib...</td>\n",
       "      <td>NaN</td>\n",
       "      <td>NaN</td>\n",
       "      <td>Sports &amp; Outdoors | Outdoor Recreation | Skate...</td>\n",
       "      <td>NaN</td>\n",
       "      <td>NaN</td>\n",
       "      <td>$237.68</td>\n",
       "      <td>NaN</td>\n",
       "      <td>NaN</td>\n",
       "      <td>...</td>\n",
       "      <td>https://www.amazon.com/DB-Longboards-CoreFlex-...</td>\n",
       "      <td>NaN</td>\n",
       "      <td>NaN</td>\n",
       "      <td>NaN</td>\n",
       "      <td>NaN</td>\n",
       "      <td>NaN</td>\n",
       "      <td>NaN</td>\n",
       "      <td>Y</td>\n",
       "      <td>NaN</td>\n",
       "      <td>NaN</td>\n",
       "    </tr>\n",
       "    <tr>\n",
       "      <th>1</th>\n",
       "      <td>66d49bbed043f5be260fa9f7fbff5957</td>\n",
       "      <td>Electronic Snap Circuits Mini Kits Classpack, ...</td>\n",
       "      <td>NaN</td>\n",
       "      <td>NaN</td>\n",
       "      <td>Toys &amp; Games | Learning &amp; Education | Science ...</td>\n",
       "      <td>NaN</td>\n",
       "      <td>NaN</td>\n",
       "      <td>$99.95</td>\n",
       "      <td>NaN</td>\n",
       "      <td>55324</td>\n",
       "      <td>...</td>\n",
       "      <td>https://www.amazon.com/Electronic-Circuits-Cla...</td>\n",
       "      <td>NaN</td>\n",
       "      <td>NaN</td>\n",
       "      <td>NaN</td>\n",
       "      <td>NaN</td>\n",
       "      <td>NaN</td>\n",
       "      <td>NaN</td>\n",
       "      <td>Y</td>\n",
       "      <td>NaN</td>\n",
       "      <td>NaN</td>\n",
       "    </tr>\n",
       "    <tr>\n",
       "      <th>2</th>\n",
       "      <td>2c55cae269aebf53838484b0d7dd931a</td>\n",
       "      <td>3Doodler Create Flexy 3D Printing Filament Ref...</td>\n",
       "      <td>NaN</td>\n",
       "      <td>NaN</td>\n",
       "      <td>Toys &amp; Games | Arts &amp; Crafts | Craft Kits</td>\n",
       "      <td>NaN</td>\n",
       "      <td>NaN</td>\n",
       "      <td>$34.99</td>\n",
       "      <td>NaN</td>\n",
       "      <td>NaN</td>\n",
       "      <td>...</td>\n",
       "      <td>https://www.amazon.com/3Doodler-Plastic-Innova...</td>\n",
       "      <td>NaN</td>\n",
       "      <td>NaN</td>\n",
       "      <td>NaN</td>\n",
       "      <td>NaN</td>\n",
       "      <td>NaN</td>\n",
       "      <td>NaN</td>\n",
       "      <td>Y</td>\n",
       "      <td>NaN</td>\n",
       "      <td>NaN</td>\n",
       "    </tr>\n",
       "    <tr>\n",
       "      <th>3</th>\n",
       "      <td>18018b6bc416dab347b1b7db79994afa</td>\n",
       "      <td>Guillow Airplane Design Studio with Travel Cas...</td>\n",
       "      <td>NaN</td>\n",
       "      <td>NaN</td>\n",
       "      <td>Toys &amp; Games | Hobbies | Models &amp; Model Kits |...</td>\n",
       "      <td>NaN</td>\n",
       "      <td>NaN</td>\n",
       "      <td>$28.91</td>\n",
       "      <td>NaN</td>\n",
       "      <td>142</td>\n",
       "      <td>...</td>\n",
       "      <td>https://www.amazon.com/Guillow-Airplane-Design...</td>\n",
       "      <td>NaN</td>\n",
       "      <td>NaN</td>\n",
       "      <td>NaN</td>\n",
       "      <td>NaN</td>\n",
       "      <td>NaN</td>\n",
       "      <td>NaN</td>\n",
       "      <td>Y</td>\n",
       "      <td>NaN</td>\n",
       "      <td>NaN</td>\n",
       "    </tr>\n",
       "    <tr>\n",
       "      <th>4</th>\n",
       "      <td>e04b990e95bf73bbe6a3fa09785d7cd0</td>\n",
       "      <td>Woodstock- Collage 500 pc Puzzle</td>\n",
       "      <td>NaN</td>\n",
       "      <td>NaN</td>\n",
       "      <td>Toys &amp; Games | Puzzles | Jigsaw Puzzles</td>\n",
       "      <td>NaN</td>\n",
       "      <td>NaN</td>\n",
       "      <td>$17.49</td>\n",
       "      <td>NaN</td>\n",
       "      <td>62151</td>\n",
       "      <td>...</td>\n",
       "      <td>https://www.amazon.com/Woodstock-Collage-500-p...</td>\n",
       "      <td>NaN</td>\n",
       "      <td>NaN</td>\n",
       "      <td>NaN</td>\n",
       "      <td>NaN</td>\n",
       "      <td>NaN</td>\n",
       "      <td>NaN</td>\n",
       "      <td>Y</td>\n",
       "      <td>NaN</td>\n",
       "      <td>NaN</td>\n",
       "    </tr>\n",
       "  </tbody>\n",
       "</table>\n",
       "<p>5 rows × 28 columns</p>\n",
       "</div>"
      ],
      "text/plain": [
       "                           Uniqe Id  \\\n",
       "0  4c69b61db1fc16e7013b43fc926e502d   \n",
       "1  66d49bbed043f5be260fa9f7fbff5957   \n",
       "2  2c55cae269aebf53838484b0d7dd931a   \n",
       "3  18018b6bc416dab347b1b7db79994afa   \n",
       "4  e04b990e95bf73bbe6a3fa09785d7cd0   \n",
       "\n",
       "                                        Product Name  Brand Name  Asin  \\\n",
       "0  DB Longboards CoreFlex Crossbow 41\" Bamboo Fib...         NaN   NaN   \n",
       "1  Electronic Snap Circuits Mini Kits Classpack, ...         NaN   NaN   \n",
       "2  3Doodler Create Flexy 3D Printing Filament Ref...         NaN   NaN   \n",
       "3  Guillow Airplane Design Studio with Travel Cas...         NaN   NaN   \n",
       "4                   Woodstock- Collage 500 pc Puzzle         NaN   NaN   \n",
       "\n",
       "                                            Category Upc Ean Code  List Price  \\\n",
       "0  Sports & Outdoors | Outdoor Recreation | Skate...          NaN         NaN   \n",
       "1  Toys & Games | Learning & Education | Science ...          NaN         NaN   \n",
       "2          Toys & Games | Arts & Crafts | Craft Kits          NaN         NaN   \n",
       "3  Toys & Games | Hobbies | Models & Model Kits |...          NaN         NaN   \n",
       "4            Toys & Games | Puzzles | Jigsaw Puzzles          NaN         NaN   \n",
       "\n",
       "  Selling Price  Quantity Model Number  ...  \\\n",
       "0       $237.68       NaN          NaN  ...   \n",
       "1        $99.95       NaN        55324  ...   \n",
       "2        $34.99       NaN          NaN  ...   \n",
       "3        $28.91       NaN          142  ...   \n",
       "4        $17.49       NaN        62151  ...   \n",
       "\n",
       "                                         Product Url Stock Product Details  \\\n",
       "0  https://www.amazon.com/DB-Longboards-CoreFlex-...   NaN             NaN   \n",
       "1  https://www.amazon.com/Electronic-Circuits-Cla...   NaN             NaN   \n",
       "2  https://www.amazon.com/3Doodler-Plastic-Innova...   NaN             NaN   \n",
       "3  https://www.amazon.com/Guillow-Airplane-Design...   NaN             NaN   \n",
       "4  https://www.amazon.com/Woodstock-Collage-500-p...   NaN             NaN   \n",
       "\n",
       "  Dimensions Color Ingredients Direction To Use  Is Amazon Seller  \\\n",
       "0        NaN   NaN         NaN              NaN                 Y   \n",
       "1        NaN   NaN         NaN              NaN                 Y   \n",
       "2        NaN   NaN         NaN              NaN                 Y   \n",
       "3        NaN   NaN         NaN              NaN                 Y   \n",
       "4        NaN   NaN         NaN              NaN                 Y   \n",
       "\n",
       "  Size Quantity Variant  Product Description  \n",
       "0                   NaN                  NaN  \n",
       "1                   NaN                  NaN  \n",
       "2                   NaN                  NaN  \n",
       "3                   NaN                  NaN  \n",
       "4                   NaN                  NaN  \n",
       "\n",
       "[5 rows x 28 columns]"
      ]
     },
     "execution_count": 3,
     "metadata": {},
     "output_type": "execute_result"
    }
   ],
   "source": [
    "pro.head()"
   ]
  },
  {
   "cell_type": "code",
   "execution_count": 4,
   "id": "6257e15f-ca0c-4287-a0c5-c22c69cceb60",
   "metadata": {},
   "outputs": [
    {
     "name": "stdout",
     "output_type": "stream",
     "text": [
      "<class 'pandas.core.frame.DataFrame'>\n",
      "RangeIndex: 10002 entries, 0 to 10001\n",
      "Data columns (total 28 columns):\n",
      " #   Column                 Non-Null Count  Dtype  \n",
      "---  ------                 --------------  -----  \n",
      " 0   Uniqe Id               10002 non-null  object \n",
      " 1   Product Name           10002 non-null  object \n",
      " 2   Brand Name             0 non-null      float64\n",
      " 3   Asin                   0 non-null      float64\n",
      " 4   Category               9172 non-null   object \n",
      " 5   Upc Ean Code           34 non-null     object \n",
      " 6   List Price             0 non-null      float64\n",
      " 7   Selling Price          9895 non-null   object \n",
      " 8   Quantity               0 non-null      float64\n",
      " 9   Model Number           8230 non-null   object \n",
      " 10  About Product          9729 non-null   object \n",
      " 11  Product Specification  8370 non-null   object \n",
      " 12  Technical Details      9212 non-null   object \n",
      " 13  Shipping Weight        8864 non-null   object \n",
      " 14  Product Dimensions     479 non-null    object \n",
      " 15  Image                  10002 non-null  object \n",
      " 16  Variants               2478 non-null   object \n",
      " 17  Sku                    0 non-null      float64\n",
      " 18  Product Url            10002 non-null  object \n",
      " 19  Stock                  0 non-null      float64\n",
      " 20  Product Details        0 non-null      float64\n",
      " 21  Dimensions             0 non-null      float64\n",
      " 22  Color                  0 non-null      float64\n",
      " 23  Ingredients            0 non-null      float64\n",
      " 24  Direction To Use       0 non-null      float64\n",
      " 25  Is Amazon Seller       10002 non-null  object \n",
      " 26  Size Quantity Variant  0 non-null      float64\n",
      " 27  Product Description    0 non-null      float64\n",
      "dtypes: float64(13), object(15)\n",
      "memory usage: 2.1+ MB\n"
     ]
    }
   ],
   "source": [
    "pro.info()"
   ]
  },
  {
   "cell_type": "markdown",
   "id": "4477706a-cec8-46f3-b06f-b792d74e6314",
   "metadata": {},
   "source": [
    "#### 1.1. Check for Null Value "
   ]
  },
  {
   "cell_type": "code",
   "execution_count": 7,
   "id": "2ee9a2dd-6c01-4955-a9d0-94f5aa43049a",
   "metadata": {},
   "outputs": [
    {
     "data": {
      "text/plain": [
       "Uniqe Id                     0\n",
       "Product Name                 0\n",
       "Brand Name               10002\n",
       "Asin                     10002\n",
       "Category                   830\n",
       "Upc Ean Code              9968\n",
       "List Price               10002\n",
       "Selling Price              107\n",
       "Quantity                 10002\n",
       "Model Number              1772\n",
       "About Product              273\n",
       "Product Specification     1632\n",
       "Technical Details          790\n",
       "Shipping Weight           1138\n",
       "Product Dimensions        9523\n",
       "Image                        0\n",
       "Variants                  7524\n",
       "Sku                      10002\n",
       "Product Url                  0\n",
       "Stock                    10002\n",
       "Product Details          10002\n",
       "Dimensions               10002\n",
       "Color                    10002\n",
       "Ingredients              10002\n",
       "Direction To Use         10002\n",
       "Is Amazon Seller             0\n",
       "Size Quantity Variant    10002\n",
       "Product Description      10002\n",
       "dtype: int64"
      ]
     },
     "execution_count": 7,
     "metadata": {},
     "output_type": "execute_result"
    }
   ],
   "source": [
    "pro.isnull().sum()                                  # Check for null value  "
   ]
  },
  {
   "cell_type": "markdown",
   "id": "3bcdd068-0480-4f4e-95ea-8759927b58ab",
   "metadata": {},
   "source": [
    "###### There are many columns with no value at all and also columns with huge amount of missing value, so i decided to drop most of the column\n",
    "###### and keep those which i find necessary and not have so much missing values"
   ]
  },
  {
   "cell_type": "code",
   "execution_count": 27,
   "id": "0adaa9d3-332b-4ad9-9c38-96512124208b",
   "metadata": {},
   "outputs": [],
   "source": [
    "pro = pro.iloc[:, [0,1,4,7,13,25]]                  # Drop columns with no value"
   ]
  },
  {
   "cell_type": "markdown",
   "id": "f8c5d39d-d69e-4ab7-b7e3-9464cdb2db4d",
   "metadata": {},
   "source": [
    "#### 1.2. Deal with 'Category' column"
   ]
  },
  {
   "cell_type": "markdown",
   "id": "ce4a397c-ec11-40cc-b737-1f05762cb6e8",
   "metadata": {},
   "source": [
    "###### There are multiple category in 1 cell, separated by a '|', so I decided to create a new Table named Category with mulitiple categories display in one column only"
   ]
  },
  {
   "cell_type": "code",
   "execution_count": 34,
   "id": "64b9a9b5-b1aa-4a1f-b877-11e8de786226",
   "metadata": {},
   "outputs": [
    {
     "data": {
      "text/html": [
       "<div>\n",
       "<style scoped>\n",
       "    .dataframe tbody tr th:only-of-type {\n",
       "        vertical-align: middle;\n",
       "    }\n",
       "\n",
       "    .dataframe tbody tr th {\n",
       "        vertical-align: top;\n",
       "    }\n",
       "\n",
       "    .dataframe thead th {\n",
       "        text-align: right;\n",
       "    }\n",
       "</style>\n",
       "<table border=\"1\" class=\"dataframe\">\n",
       "  <thead>\n",
       "    <tr style=\"text-align: right;\">\n",
       "      <th></th>\n",
       "      <th>Uniqe Id</th>\n",
       "      <th>Category</th>\n",
       "    </tr>\n",
       "  </thead>\n",
       "  <tbody>\n",
       "    <tr>\n",
       "      <th>0</th>\n",
       "      <td>4c69b61db1fc16e7013b43fc926e502d</td>\n",
       "      <td>Sports &amp; Outdoors</td>\n",
       "    </tr>\n",
       "    <tr>\n",
       "      <th>1</th>\n",
       "      <td>4c69b61db1fc16e7013b43fc926e502d</td>\n",
       "      <td>Outdoor Recreation</td>\n",
       "    </tr>\n",
       "    <tr>\n",
       "      <th>2</th>\n",
       "      <td>4c69b61db1fc16e7013b43fc926e502d</td>\n",
       "      <td>Skates, Skateboards &amp; Scooters</td>\n",
       "    </tr>\n",
       "    <tr>\n",
       "      <th>3</th>\n",
       "      <td>4c69b61db1fc16e7013b43fc926e502d</td>\n",
       "      <td>Skateboarding</td>\n",
       "    </tr>\n",
       "    <tr>\n",
       "      <th>4</th>\n",
       "      <td>4c69b61db1fc16e7013b43fc926e502d</td>\n",
       "      <td>Standard Skateboards &amp; Longboards</td>\n",
       "    </tr>\n",
       "  </tbody>\n",
       "</table>\n",
       "</div>"
      ],
      "text/plain": [
       "                           Uniqe Id                             Category\n",
       "0  4c69b61db1fc16e7013b43fc926e502d                   Sports & Outdoors \n",
       "1  4c69b61db1fc16e7013b43fc926e502d                  Outdoor Recreation \n",
       "2  4c69b61db1fc16e7013b43fc926e502d      Skates, Skateboards & Scooters \n",
       "3  4c69b61db1fc16e7013b43fc926e502d                       Skateboarding \n",
       "4  4c69b61db1fc16e7013b43fc926e502d   Standard Skateboards & Longboards "
      ]
     },
     "execution_count": 34,
     "metadata": {},
     "output_type": "execute_result"
    }
   ],
   "source": [
    "pro['Category'] = pro['Category'].ffill()  \n",
    "cat = pro[['Uniqe Id','Category']].copy()                        # Create a new table with 'Unique ID' and 'Category' only\n",
    "cat['Category']= cat['Category'].str.split('|')                  # There are multiple category in 1 cell, separated by a '|' , so I split them\n",
    "cat = cat.explode('Category').reset_index(drop=True)             # Display each of the category in one row only\n",
    "cat.head()"
   ]
  },
  {
   "cell_type": "markdown",
   "id": "9fbfbf5a-e04e-45f3-8af7-b11778a14b31",
   "metadata": {},
   "source": [
    "#### 1.3. Deal with 'Selling Price' column"
   ]
  },
  {
   "cell_type": "code",
   "execution_count": 29,
   "id": "e181aee1-0f66-4a88-b1e4-5e91ce2aad07",
   "metadata": {},
   "outputs": [],
   "source": [
    "pro['Selling Price'] = pro['Selling Price'].str.replace('$', '')                # Remove the $ symbol from Selling Price\n",
    "pro['Selling Price'] = pro['Selling Price'].ffill()                             # Fill the 'Selling Price' null values with the above value\n",
    "\n",
    "# Converts messily formatted cells to standard formatting (From '12.99 - 24.99','1,222.99','12 99', ... to 12.99)\n",
    "pattern1 = r'^\\d{1,3}\\.\\d{2}$'                                # 12.99 - standard formatting\n",
    "pattern2 = r'^\\d{1,3}\\.\\d{2} - \\d{1,3}\\.\\d{2}$'               # 12.99 - 24.99\n",
    "pattern3 = r'^\\d{1,3}\\,\\d{1,3}\\.\\d{2}$'                       # 1,222.99\n",
    "pattern4 = r'^\\d{1,3}\\.\\d{2}  \\d{1,3} \\. \\d{2}$'              # 12.99  12 . 99 \n",
    "pattern5 = r'^Total price:$'                                  # Total Price\n",
    "pattern6 = r'^\\d{1,3}\\.\\d{2} - \\d{1,3}\\,\\d{1,3}\\.\\d{2}$'      # 12.99 - 1,111.99\n",
    "pattern7 = r'^\\d{1,3}\\.\\d{2} \\d{1,3}\\.\\d{2}$'                 # 12.99 12.99 \n",
    "pattern8 = r'^ \\d{1,3} \\d{1,3}$'                              # 12 99 \n",
    "pattern9 = r'^ \\d{1,3} \\d{1,3} \\d{1,3}\\.\\d{2}.*'              # 19 99 39.95 #listPriceLegalMe ...\n",
    "pattern10 = r'^\\d{1,3}\\.\\d{1,3}  \\d{1,3}$'                    # 8.99 8\n",
    "\n",
    "\n",
    "for i, data in pro['Selling Price'].items():\n",
    "    if re.match(pattern1, data):\n",
    "        pro.loc[i, 'Selling Price'] = data\n",
    "    elif re.match(pattern2, data):\n",
    "        price_range = data.split('-')\n",
    "        lower_bound = price_range[0]\n",
    "        upper_bound = price_range[1]\n",
    "        pro.loc[i, 'Selling Price'] = (float(lower_bound) + float(upper_bound)) / 2\n",
    "    elif re.match(pattern3, data):\n",
    "        pro.loc[i, 'Selling Price'] = data.replace(',', '')\n",
    "    elif re.match(pattern4, data):\n",
    "        values = data.split()\n",
    "        pro.loc[i, 'Selling Price'] = values[0]\n",
    "    elif data == 'Total price:':\n",
    "        pro.loc[i, 'Selling Price'] = pro.loc[i-1, 'Selling Price']\n",
    "    elif re.match(pattern6, data):\n",
    "        price_range = data.split('-')\n",
    "        lower_bound = price_range[0]\n",
    "        upper_bound = price_range[1].replace(',', '')\n",
    "        pro.loc[i, 'Selling Price'] = (float(lower_bound) + float(upper_bound)) / 2\n",
    "    elif re.match(pattern7, data):\n",
    "        pro.loc[i, 'Selling Price'] = data.split(' ')[0]\n",
    "    elif re.match(pattern8, data):\n",
    "        pro.loc[i, 'Selling Price'] = data.replace(' ', '',1).replace(' ', '.',2)\n",
    "    elif re.match(pattern9, data):\n",
    "        price_range = data.split()\n",
    "        lower_bound = price_range[0] + '.' + price_range[1]\n",
    "        upper_bound = price_range[2]\n",
    "        pro.loc[i, 'Selling Price'] = (float(lower_bound) + float(upper_bound)) / 2\n",
    "    elif re.match(pattern10, data):\n",
    "        pro.loc[i, 'Selling Price'] = data.split()[0]\n",
    "    else:\n",
    "        pro.loc[i, 'Selling Price'] = pro.loc[i-1, 'Selling Price']"
   ]
  },
  {
   "cell_type": "markdown",
   "id": "d425abe7-9579-47d5-b851-76aca061d452",
   "metadata": {},
   "source": [
    "#### 1.4. Deal with 'Shipping Weight' column"
   ]
  },
  {
   "cell_type": "code",
   "execution_count": 30,
   "id": "ae9fe464-576b-41fe-8412-93ec620e05c1",
   "metadata": {},
   "outputs": [],
   "source": [
    "pro['Shipping Weight'] = pro['Shipping Weight'].ffill()                       # Fill 'Shipping Weight' null value with the above value\n",
    "pro.loc[1619, 'Shipping Weight'] = pro.loc[1618, 'Shipping Weight']           # There is a index that has '.pounds' only so i replace with the above value\n",
    "pro['Shipping Weight'] = pro['Shipping Weight'].str.replace(',', '.')         # There are some index with '1,88' instead of '1.88', so i replace ',' with '.'\n",
    "\n",
    "# Turn all value to pounds (the index with ounces will be devided by 16)\n",
    "for i, data in pro['Shipping Weight'].items():\n",
    "    if 'pound' in data:\n",
    "        pro.loc[i, 'Shipping Weight'] = float(data.split()[0])\n",
    "    elif 'ounce' in data:\n",
    "        pro.loc[i, 'Shipping Weight'] = float(data.split()[0])/16\n",
    "    else:\n",
    "        pro.loc[i, 'Shipping Weight'] = pro.loc[i-1, 'Selling Price']"
   ]
  },
  {
   "cell_type": "markdown",
   "id": "1cb3b543-1863-4134-9f19-d3662605024a",
   "metadata": {},
   "source": [
    "#### 1.5. Deal with 'Subscription Status' column"
   ]
  },
  {
   "cell_type": "code",
   "execution_count": 31,
   "id": "6f35b0dc-3255-41e0-8749-4837239c7b78",
   "metadata": {},
   "outputs": [],
   "source": [
    "# Change value from 'Subscription Status' column to one format\n",
    "pro['Is Amazon Seller'] = pro['Is Amazon Seller'].str.replace('Y', 'Yes')\n",
    "pro['Is Amazon Seller'] = pro['Is Amazon Seller'].str.replace('N', 'No')"
   ]
  },
  {
   "cell_type": "markdown",
   "id": "5c5e2e23-bb75-46fb-876a-c7cb29dca8bc",
   "metadata": {},
   "source": [
    "#### 1.6. Check for Duplicated Value"
   ]
  },
  {
   "cell_type": "code",
   "execution_count": 32,
   "id": "3265922e-e32d-495e-99f9-3a55cf6f3072",
   "metadata": {},
   "outputs": [
    {
     "data": {
      "text/plain": [
       "0"
      ]
     },
     "execution_count": 32,
     "metadata": {},
     "output_type": "execute_result"
    }
   ],
   "source": [
    "pro.duplicated().sum()"
   ]
  },
  {
   "cell_type": "markdown",
   "id": "349fbcfe-20ec-4d7f-a7c0-1bd4a25c5a9f",
   "metadata": {},
   "source": [
    "#### 1.7. Convert all columns to suitable type"
   ]
  },
  {
   "cell_type": "code",
   "execution_count": 35,
   "id": "293aaf15-138e-40d6-b33d-a18503e1609a",
   "metadata": {},
   "outputs": [
    {
     "name": "stdout",
     "output_type": "stream",
     "text": [
      "<class 'pandas.core.frame.DataFrame'>\n",
      "RangeIndex: 10002 entries, 0 to 10001\n",
      "Data columns (total 6 columns):\n",
      " #   Column            Non-Null Count  Dtype  \n",
      "---  ------            --------------  -----  \n",
      " 0   Uniqe Id          10002 non-null  object \n",
      " 1   Product Name      10002 non-null  object \n",
      " 2   Category          10002 non-null  object \n",
      " 3   Selling Price     10002 non-null  float64\n",
      " 4   Shipping Weight   10002 non-null  float64\n",
      " 5   Is Amazon Seller  10002 non-null  object \n",
      "dtypes: float64(2), object(4)\n",
      "memory usage: 469.0+ KB\n"
     ]
    }
   ],
   "source": [
    "pro['Selling Price'] = pro['Selling Price'].astype('float')\n",
    "pro['Shipping Weight'] = pro['Shipping Weight'].astype('float')\n",
    "pro.info()"
   ]
  },
  {
   "cell_type": "markdown",
   "id": "ec03cc49-f40b-41f0-b74d-400779f7e96f",
   "metadata": {},
   "source": [
    "### 2. Customer Data"
   ]
  },
  {
   "cell_type": "code",
   "execution_count": 36,
   "id": "f0e12557-acb7-4210-9a2b-a8088308f5e0",
   "metadata": {},
   "outputs": [
    {
     "data": {
      "text/html": [
       "<div>\n",
       "<style scoped>\n",
       "    .dataframe tbody tr th:only-of-type {\n",
       "        vertical-align: middle;\n",
       "    }\n",
       "\n",
       "    .dataframe tbody tr th {\n",
       "        vertical-align: top;\n",
       "    }\n",
       "\n",
       "    .dataframe thead th {\n",
       "        text-align: right;\n",
       "    }\n",
       "</style>\n",
       "<table border=\"1\" class=\"dataframe\">\n",
       "  <thead>\n",
       "    <tr style=\"text-align: right;\">\n",
       "      <th></th>\n",
       "      <th>ID</th>\n",
       "      <th>Age</th>\n",
       "      <th>Gender</th>\n",
       "      <th>Location</th>\n",
       "    </tr>\n",
       "  </thead>\n",
       "  <tbody>\n",
       "    <tr>\n",
       "      <th>0</th>\n",
       "      <td>sdb5huosnxxfkffuy35wlz610rs8coc7</td>\n",
       "      <td>55</td>\n",
       "      <td>Male</td>\n",
       "      <td>Kentucky</td>\n",
       "    </tr>\n",
       "    <tr>\n",
       "      <th>1</th>\n",
       "      <td>aknjq1s2spcia7idfw5wepumiz6deeko</td>\n",
       "      <td>19</td>\n",
       "      <td>Male</td>\n",
       "      <td>Maine</td>\n",
       "    </tr>\n",
       "    <tr>\n",
       "      <th>2</th>\n",
       "      <td>pnoo0r4kekut1cd6ipwhhf2wrvcz2v2t</td>\n",
       "      <td>50</td>\n",
       "      <td>Male</td>\n",
       "      <td>Massachusetts</td>\n",
       "    </tr>\n",
       "    <tr>\n",
       "      <th>3</th>\n",
       "      <td>tmmqqu7wh0u0ahc6mop0topxirvhgoby</td>\n",
       "      <td>21</td>\n",
       "      <td>Male</td>\n",
       "      <td>Rhode Island</td>\n",
       "    </tr>\n",
       "    <tr>\n",
       "      <th>4</th>\n",
       "      <td>jmrgfqd25k8dbenexmbbygwzwbgv4abw</td>\n",
       "      <td>45</td>\n",
       "      <td>Male</td>\n",
       "      <td>Oregon</td>\n",
       "    </tr>\n",
       "  </tbody>\n",
       "</table>\n",
       "</div>"
      ],
      "text/plain": [
       "                                 ID  Age Gender       Location\n",
       "0  sdb5huosnxxfkffuy35wlz610rs8coc7   55   Male       Kentucky\n",
       "1  aknjq1s2spcia7idfw5wepumiz6deeko   19   Male          Maine\n",
       "2  pnoo0r4kekut1cd6ipwhhf2wrvcz2v2t   50   Male  Massachusetts\n",
       "3  tmmqqu7wh0u0ahc6mop0topxirvhgoby   21   Male   Rhode Island\n",
       "4  jmrgfqd25k8dbenexmbbygwzwbgv4abw   45   Male         Oregon"
      ]
     },
     "execution_count": 36,
     "metadata": {},
     "output_type": "execute_result"
    }
   ],
   "source": [
    "cus.head()"
   ]
  },
  {
   "cell_type": "code",
   "execution_count": 37,
   "id": "ce73bbb5-dd9a-4f33-aa79-cb0ff3fa3aa9",
   "metadata": {},
   "outputs": [
    {
     "name": "stdout",
     "output_type": "stream",
     "text": [
      "<class 'pandas.core.frame.DataFrame'>\n",
      "RangeIndex: 3900 entries, 0 to 3899\n",
      "Data columns (total 4 columns):\n",
      " #   Column    Non-Null Count  Dtype \n",
      "---  ------    --------------  ----- \n",
      " 0   ID        3900 non-null   object\n",
      " 1   Age       3900 non-null   int64 \n",
      " 2   Gender    3900 non-null   object\n",
      " 3   Location  3900 non-null   object\n",
      "dtypes: int64(1), object(3)\n",
      "memory usage: 122.0+ KB\n"
     ]
    }
   ],
   "source": [
    "cus.info()"
   ]
  },
  {
   "cell_type": "markdown",
   "id": "7dbcd7fb-6cd9-4cb0-b087-8abef86b4292",
   "metadata": {},
   "source": [
    "###### The Customer Data is pretty nice with no Null Value and the columns are at their suitable types, so I just gonna check for the Duplicated Value only"
   ]
  },
  {
   "cell_type": "markdown",
   "id": "077d5a44-2413-4ae3-a19e-d4606123fc92",
   "metadata": {},
   "source": [
    "#### 2.1. Check for Duplcated Value"
   ]
  },
  {
   "cell_type": "code",
   "execution_count": 38,
   "id": "be01ae9f-085f-4d6d-87db-fbf8c0970d02",
   "metadata": {},
   "outputs": [
    {
     "data": {
      "text/plain": [
       "0"
      ]
     },
     "execution_count": 38,
     "metadata": {},
     "output_type": "execute_result"
    }
   ],
   "source": [
    "cus.duplicated().sum()"
   ]
  },
  {
   "cell_type": "markdown",
   "id": "9df1feea-5770-4dda-add5-7a9e77b186cd",
   "metadata": {},
   "source": [
    "### 3. Order Details Data"
   ]
  },
  {
   "cell_type": "code",
   "execution_count": 39,
   "id": "2269f094-fb24-4045-936a-70e1d45de4a8",
   "metadata": {},
   "outputs": [
    {
     "data": {
      "text/html": [
       "<div>\n",
       "<style scoped>\n",
       "    .dataframe tbody tr th:only-of-type {\n",
       "        vertical-align: middle;\n",
       "    }\n",
       "\n",
       "    .dataframe tbody tr th {\n",
       "        vertical-align: top;\n",
       "    }\n",
       "\n",
       "    .dataframe thead th {\n",
       "        text-align: right;\n",
       "    }\n",
       "</style>\n",
       "<table border=\"1\" class=\"dataframe\">\n",
       "  <thead>\n",
       "    <tr style=\"text-align: right;\">\n",
       "      <th></th>\n",
       "      <th>Customer ID</th>\n",
       "      <th>Product ID</th>\n",
       "      <th>Order ID</th>\n",
       "      <th>Order Quantity</th>\n",
       "      <th>Review Rating</th>\n",
       "      <th>Payment Method</th>\n",
       "      <th>Subscription Status</th>\n",
       "      <th>Shipping Type</th>\n",
       "      <th>Discount</th>\n",
       "      <th>Date</th>\n",
       "    </tr>\n",
       "  </thead>\n",
       "  <tbody>\n",
       "    <tr>\n",
       "      <th>0</th>\n",
       "      <td>cmqva4sucpxicgbcuhuiuwmbcuamldsq</td>\n",
       "      <td>d25a70e80b554fdcc4d53a7939a1cd81</td>\n",
       "      <td>qibq5bx9bjf6xlzeu3o7s1poajjxrizy</td>\n",
       "      <td>2</td>\n",
       "      <td>4.8</td>\n",
       "      <td>PayPal</td>\n",
       "      <td>No</td>\n",
       "      <td>Store Pickup</td>\n",
       "      <td>38.21%</td>\n",
       "      <td>2022-01-05</td>\n",
       "    </tr>\n",
       "    <tr>\n",
       "      <th>1</th>\n",
       "      <td>7gvjwveptda4cquw00s5j6krp6kperzi</td>\n",
       "      <td>325be9d8fef8ba85153e9f74c42269ba</td>\n",
       "      <td>39flqqbibqqoat80qxzt5ple84f8mdtg</td>\n",
       "      <td>14</td>\n",
       "      <td>4.4</td>\n",
       "      <td>Bank Transfer</td>\n",
       "      <td>No</td>\n",
       "      <td>Next Day Air</td>\n",
       "      <td>4.18%</td>\n",
       "      <td>2022-01-04</td>\n",
       "    </tr>\n",
       "    <tr>\n",
       "      <th>2</th>\n",
       "      <td>el5ara0cqvunvbm0pczhj5noc0uulrtj</td>\n",
       "      <td>af11d5f530665e1500ec2dcfe72a6fe2</td>\n",
       "      <td>cgmo5mgpbqtdyj5iv6s0cubprzur2i9c</td>\n",
       "      <td>7</td>\n",
       "      <td>3.7</td>\n",
       "      <td>Cash</td>\n",
       "      <td>No</td>\n",
       "      <td>2-Day Shipping</td>\n",
       "      <td>20.07%</td>\n",
       "      <td>2022-01-09</td>\n",
       "    </tr>\n",
       "    <tr>\n",
       "      <th>3</th>\n",
       "      <td>roxarwthqkzvk3usslyutpfaxgu9awiy</td>\n",
       "      <td>a047a3c2aa91a3d30b71a97e14b0aacf</td>\n",
       "      <td>5gdnbfsfgyeoxmve2p06rrb4fd5hl5cu</td>\n",
       "      <td>9</td>\n",
       "      <td>4.9</td>\n",
       "      <td>PayPal</td>\n",
       "      <td>Yes</td>\n",
       "      <td>2-Day Shipping</td>\n",
       "      <td>5.23%</td>\n",
       "      <td>2022-01-25</td>\n",
       "    </tr>\n",
       "    <tr>\n",
       "      <th>4</th>\n",
       "      <td>cbkiyqnvlnibrfhdwupmdavvrwu7zyhj</td>\n",
       "      <td>d3bafe51896376b23424226386ca8820</td>\n",
       "      <td>cyf8z5ljftql2o1qz71gdyvoefmacmlm</td>\n",
       "      <td>7</td>\n",
       "      <td>4.8</td>\n",
       "      <td>Bank Transfer</td>\n",
       "      <td>No</td>\n",
       "      <td>Standard</td>\n",
       "      <td>24.4%</td>\n",
       "      <td>2022-01-31</td>\n",
       "    </tr>\n",
       "  </tbody>\n",
       "</table>\n",
       "</div>"
      ],
      "text/plain": [
       "                        Customer ID                        Product ID  \\\n",
       "0  cmqva4sucpxicgbcuhuiuwmbcuamldsq  d25a70e80b554fdcc4d53a7939a1cd81   \n",
       "1  7gvjwveptda4cquw00s5j6krp6kperzi  325be9d8fef8ba85153e9f74c42269ba   \n",
       "2  el5ara0cqvunvbm0pczhj5noc0uulrtj  af11d5f530665e1500ec2dcfe72a6fe2   \n",
       "3  roxarwthqkzvk3usslyutpfaxgu9awiy  a047a3c2aa91a3d30b71a97e14b0aacf   \n",
       "4  cbkiyqnvlnibrfhdwupmdavvrwu7zyhj  d3bafe51896376b23424226386ca8820   \n",
       "\n",
       "                           Order ID  Order Quantity  Review Rating  \\\n",
       "0  qibq5bx9bjf6xlzeu3o7s1poajjxrizy               2            4.8   \n",
       "1  39flqqbibqqoat80qxzt5ple84f8mdtg              14            4.4   \n",
       "2  cgmo5mgpbqtdyj5iv6s0cubprzur2i9c               7            3.7   \n",
       "3  5gdnbfsfgyeoxmve2p06rrb4fd5hl5cu               9            4.9   \n",
       "4  cyf8z5ljftql2o1qz71gdyvoefmacmlm               7            4.8   \n",
       "\n",
       "  Payment Method Subscription Status   Shipping Type Discount        Date  \n",
       "0         PayPal                  No    Store Pickup   38.21%  2022-01-05  \n",
       "1  Bank Transfer                  No    Next Day Air    4.18%  2022-01-04  \n",
       "2           Cash                  No  2-Day Shipping   20.07%  2022-01-09  \n",
       "3         PayPal                 Yes  2-Day Shipping    5.23%  2022-01-25  \n",
       "4  Bank Transfer                  No        Standard    24.4%  2022-01-31  "
      ]
     },
     "execution_count": 39,
     "metadata": {},
     "output_type": "execute_result"
    }
   ],
   "source": [
    "ord.head()"
   ]
  },
  {
   "cell_type": "code",
   "execution_count": 40,
   "id": "cec80d77-c2d9-40f7-aab5-57156ab6c9cc",
   "metadata": {},
   "outputs": [
    {
     "name": "stdout",
     "output_type": "stream",
     "text": [
      "<class 'pandas.core.frame.DataFrame'>\n",
      "RangeIndex: 12137 entries, 0 to 12136\n",
      "Data columns (total 10 columns):\n",
      " #   Column               Non-Null Count  Dtype  \n",
      "---  ------               --------------  -----  \n",
      " 0   Customer ID          12137 non-null  object \n",
      " 1   Product ID           12137 non-null  object \n",
      " 2   Order ID             12137 non-null  object \n",
      " 3   Order Quantity       12137 non-null  int64  \n",
      " 4   Review Rating        12137 non-null  float64\n",
      " 5   Payment Method       12137 non-null  object \n",
      " 6   Subscription Status  11773 non-null  object \n",
      " 7   Shipping Type        11922 non-null  object \n",
      " 8   Discount             12087 non-null  object \n",
      " 9   Date                 12137 non-null  object \n",
      "dtypes: float64(1), int64(1), object(8)\n",
      "memory usage: 948.3+ KB\n"
     ]
    }
   ],
   "source": [
    "ord.info()"
   ]
  },
  {
   "cell_type": "markdown",
   "id": "f0615f4e-812b-4236-8dbd-177ae1f03df9",
   "metadata": {},
   "source": [
    "#### 3.1. Check for Null Value"
   ]
  },
  {
   "cell_type": "code",
   "execution_count": 42,
   "id": "518efaab-2ade-48f3-bfc8-b9dd27ff9220",
   "metadata": {},
   "outputs": [
    {
     "data": {
      "text/plain": [
       "Customer ID              0\n",
       "Product ID               0\n",
       "Order ID                 0\n",
       "Order Quantity           0\n",
       "Review Rating            0\n",
       "Payment Method           0\n",
       "Subscription Status    364\n",
       "Shipping Type          215\n",
       "Discount                50\n",
       "Date                     0\n",
       "dtype: int64"
      ]
     },
     "execution_count": 42,
     "metadata": {},
     "output_type": "execute_result"
    }
   ],
   "source": [
    "ord.isnull().sum()"
   ]
  },
  {
   "cell_type": "markdown",
   "id": "06060646-68dc-46c5-817f-78b0c5ce76de",
   "metadata": {},
   "source": [
    "###### The maximum Null Value of each column is 364, not  so mmuch in comparison with 12137 rows, so I decided to fill them with the value from the aboved rows"
   ]
  },
  {
   "cell_type": "code",
   "execution_count": 45,
   "id": "1a7dc57c-c5f2-4b8d-9907-0400d8d52dc0",
   "metadata": {},
   "outputs": [],
   "source": [
    "ord['Subscription Status'] = ord['Subscription Status'].ffill()\n",
    "ord['Shipping Type'] = ord['Shipping Type'].ffill()\n",
    "ord['Discount'] = ord['Discount'].ffill()"
   ]
  },
  {
   "cell_type": "markdown",
   "id": "bdf4d57c-5fea-48f2-9815-7aec219fe42a",
   "metadata": {},
   "source": [
    "#### 3.2. Deal with 'Subscription Status' columns"
   ]
  },
  {
   "cell_type": "code",
   "execution_count": 47,
   "id": "9563ef6b-04a2-4a8f-a096-5570562ff39c",
   "metadata": {},
   "outputs": [
    {
     "data": {
      "text/plain": [
       "array(['No', 'Yes', 'Y', 'Ye', 'no', 'Yess'], dtype=object)"
      ]
     },
     "execution_count": 47,
     "metadata": {},
     "output_type": "execute_result"
    }
   ],
   "source": [
    "ord['Subscription Status'].unique()"
   ]
  },
  {
   "cell_type": "markdown",
   "id": "e41e7e50-4235-4a79-957a-4e5aadebf97e",
   "metadata": {},
   "source": [
    "###### The format of the column is a little bit messy, so I convert them in 'Yes' and 'No' only"
   ]
  },
  {
   "cell_type": "code",
   "execution_count": 49,
   "id": "7297fcd1-ec08-498b-b989-243c43ab3f0c",
   "metadata": {},
   "outputs": [],
   "source": [
    "for i, data in ord['Subscription Status'].items():\n",
    "    if data == 'Y':\n",
    "        ord.loc[i, 'Subscription Status'] = 'Yes'\n",
    "    elif data == 'Ye':\n",
    "        ord.loc[i, 'Subscription Status'] = 'Yes'\n",
    "    elif data == 'Yess':\n",
    "        ord.loc[i, 'Subscription Status'] = 'Yes'\n",
    "    elif data == 'no':\n",
    "        ord.loc[i, 'Subscription Status'] = 'No'\n",
    "    else: ord.loc[i, 'Subscription Status'] = data"
   ]
  },
  {
   "cell_type": "markdown",
   "id": "ee8abb6b-a3a0-4cdc-967e-6f96975539a7",
   "metadata": {},
   "source": [
    "#### 3.3. Deal with 'Discount' column"
   ]
  },
  {
   "cell_type": "code",
   "execution_count": 52,
   "id": "98018a1d-62df-433f-baa1-0ddb6c36d7f0",
   "metadata": {},
   "outputs": [],
   "source": [
    "ord['Discount'] = ord['Discount'].str.replace('%', '')          # Remove % symbol from 'Discount' column"
   ]
  },
  {
   "cell_type": "markdown",
   "id": "674b8f62-7213-426e-8bd8-2260a1b7b510",
   "metadata": {},
   "source": [
    "#### 3.3. Convert all columns to suitable types"
   ]
  },
  {
   "cell_type": "code",
   "execution_count": 54,
   "id": "b1679672-9796-4644-942e-924c5606254e",
   "metadata": {},
   "outputs": [],
   "source": [
    "ord['Date'] = ord['Date'].astype('datetime64[ns]')\n",
    "ord['Discount'] = (ord['Discount'].astype('float'))/100"
   ]
  },
  {
   "cell_type": "markdown",
   "id": "00748de4-15f9-462e-82f3-a7a4c9016c81",
   "metadata": {},
   "source": [
    "### 4. Save the Data for Power BI"
   ]
  },
  {
   "cell_type": "code",
   "execution_count": 89,
   "id": "e90b7d97-5554-49a3-8600-a46bae2daece",
   "metadata": {},
   "outputs": [],
   "source": [
    "# Rename the columns to show similarity across tables\n",
    "pro = pro.rename(columns = {'Uniqe Id' : 'Product ID'})\n",
    "cus = cus.rename(columns = {'ID' : 'Customer ID'})\n",
    "cat = cat.rename(columns = {'Uniqe Id' : 'Product ID'})\n",
    "\n",
    "ord.to_csv('D:\\Porfolio\\Project 1 - E-Commerce - Draft\\Cleaned Data\\Order.csv', index=False)\n",
    "cus.to_csv('D:\\Porfolio\\Project 1 - E-Commerce - Draft\\Cleaned Data\\Cutomer.csv', index=False)\n",
    "cat.to_csv('D:\\Porfolio\\Project 1 - E-Commerce - Draft\\Cleaned Data\\Category.csv', index=False)\n",
    "pro.to_csv('D:\\Porfolio\\Project 1 - E-Commerce - Draft\\Cleaned Data\\Product.csv', index=False)"
   ]
  },
  {
   "cell_type": "code",
   "execution_count": 90,
   "id": "50d2f63b-bb43-43eb-a8ff-c4ce52073442",
   "metadata": {},
   "outputs": [],
   "source": [
    "loca.to_csv('D:\\Porfolio\\Project 1 - E-Commerce - Draft\\Cleaned Data\\Location Group.csv', index=False)\n",
    "ord_cat.to_csv('D:\\Porfolio\\Project 1 - E-Commerce - Draft\\Cleaned Data\\Order - Category.csv', index=False)\n",
    "ord_pro.to_csv('D:\\Porfolio\\Project 1 - E-Commerce - Draft\\Cleaned Data\\Order - Product.csv', index=False)"
   ]
  },
  {
   "cell_type": "markdown",
   "id": "f94a0dce-3c28-4a59-9852-404ecc7c3e05",
   "metadata": {},
   "source": [
    "### 5. Join the Data for Further Calculation"
   ]
  },
  {
   "cell_type": "code",
   "execution_count": 59,
   "id": "b5cb85a8-5e79-4c64-8d8f-584a41fb5a4e",
   "metadata": {},
   "outputs": [],
   "source": [
    "ord_pro = pd.merge(ord, pro, on='Product ID')\n",
    "ord_cat = pd.merge(ord, cat, on='Product ID')\n",
    "ord_cus = pd.merge(ord, cus, on='Customer ID')"
   ]
  },
  {
   "cell_type": "markdown",
   "id": "0cd9278b-575e-4024-a2e8-e98c09f5e7cb",
   "metadata": {},
   "source": [
    "### 6. Some overview KPIs and Analyses"
   ]
  },
  {
   "cell_type": "markdown",
   "id": "d33daa40-c9ee-4c87-a6e9-ce5e976bb72a",
   "metadata": {},
   "source": [
    "#### 6.1 KPIs"
   ]
  },
  {
   "cell_type": "code",
   "execution_count": 60,
   "id": "079428b2-08c4-4921-bd6d-57a88dc64fec",
   "metadata": {},
   "outputs": [],
   "source": [
    "# 1. Total Order\n",
    "total_order = ord['Order ID'].nunique()\n",
    "\n",
    "# 2. Unique Customer\n",
    "unique_customer = ord['Customer ID'].nunique()\n",
    "\n",
    "# 3. Unique Product\n",
    "unique_product = ord['Product ID'].nunique()\n",
    "\n",
    "# 4. Total Item Order\n",
    "total_item_order = ord['Order Quantity'].sum()\n",
    "\n",
    "# 5. Total Revenue\n",
    "ord_pro['Payment Value'] = ord_pro['Order Quantity'] * ord_pro['Selling Price'] * ord_pro['Discount']\n",
    "total_revenue = ord_pro['Payment Value'].sum().round(decimals=2)\n",
    "\n",
    "# 6. Average Order Value\n",
    "average_order_value = (total_revenue / total_order).round(decimals=2)\n",
    "\n",
    "# 7. Item Ordered per Customer\n",
    "item_ordered_pre_customer = (total_item_order / unique_customer).round(decimals=2)\n",
    "\n",
    "# 8. Average Review Score\n",
    "average_review_score = ord['Review Rating'].mean().round(decimals=2)\n",
    "\n",
    "# 9. Average Discount Value\n",
    "average_discount = ord['Discount'].mean().round(decimals=2)*100\n",
    "average_discount_value = f\"{average_discount}%\""
   ]
  },
  {
   "cell_type": "code",
   "execution_count": 65,
   "id": "1b6bdbc5-754d-4cf6-a0e6-4ae14cc8a49f",
   "metadata": {},
   "outputs": [
    {
     "data": {
      "text/html": [
       "<div>\n",
       "<style scoped>\n",
       "    .dataframe tbody tr th:only-of-type {\n",
       "        vertical-align: middle;\n",
       "    }\n",
       "\n",
       "    .dataframe tbody tr th {\n",
       "        vertical-align: top;\n",
       "    }\n",
       "\n",
       "    .dataframe thead th {\n",
       "        text-align: right;\n",
       "    }\n",
       "</style>\n",
       "<table border=\"1\" class=\"dataframe\">\n",
       "  <thead>\n",
       "    <tr style=\"text-align: right;\">\n",
       "      <th></th>\n",
       "      <th>KPIs</th>\n",
       "    </tr>\n",
       "  </thead>\n",
       "  <tbody>\n",
       "    <tr>\n",
       "      <th>Total Order</th>\n",
       "      <td>12137</td>\n",
       "    </tr>\n",
       "    <tr>\n",
       "      <th>Unique Customers</th>\n",
       "      <td>3723</td>\n",
       "    </tr>\n",
       "    <tr>\n",
       "      <th>Unique Product</th>\n",
       "      <td>6983</td>\n",
       "    </tr>\n",
       "    <tr>\n",
       "      <th>Total Item Ordered</th>\n",
       "      <td>94885</td>\n",
       "    </tr>\n",
       "    <tr>\n",
       "      <th>Total Revenue</th>\n",
       "      <td>666578.16</td>\n",
       "    </tr>\n",
       "    <tr>\n",
       "      <th>Average Order Value</th>\n",
       "      <td>54.92</td>\n",
       "    </tr>\n",
       "    <tr>\n",
       "      <th>Item Ordered per Customer</th>\n",
       "      <td>25.49</td>\n",
       "    </tr>\n",
       "    <tr>\n",
       "      <th>Average Review Score</th>\n",
       "      <td>3.75</td>\n",
       "    </tr>\n",
       "    <tr>\n",
       "      <th>Average Discount Value</th>\n",
       "      <td>18.0%</td>\n",
       "    </tr>\n",
       "  </tbody>\n",
       "</table>\n",
       "</div>"
      ],
      "text/plain": [
       "                                KPIs\n",
       "Total Order                    12137\n",
       "Unique Customers                3723\n",
       "Unique Product                  6983\n",
       "Total Item Ordered             94885\n",
       "Total Revenue              666578.16\n",
       "Average Order Value            54.92\n",
       "Item Ordered per Customer      25.49\n",
       "Average Review Score            3.75\n",
       "Average Discount Value         18.0%"
      ]
     },
     "execution_count": 65,
     "metadata": {},
     "output_type": "execute_result"
    }
   ],
   "source": [
    "KPIs = pd.DataFrame({'KPIs':[\n",
    "    total_order,\n",
    "    unique_customer,\n",
    "    unique_product,\n",
    "    total_item_order,\n",
    "    total_revenue,\n",
    "    average_order_value,\n",
    "    item_ordered_pre_customer,\n",
    "    average_review_score,\n",
    "    average_discount_value\n",
    "    ]},index=['Total Order', \n",
    "              'Unique Customers',\n",
    "              'Unique Product',\n",
    "              'Total Item Ordered',\n",
    "              'Total Revenue',\n",
    "              'Average Order Value',\n",
    "              'Item Ordered per Customer',\n",
    "              'Average Review Score',\n",
    "              'Average Discount Value' ])\n",
    "KPIs.round(decimals=2)"
   ]
  },
  {
   "cell_type": "markdown",
   "id": "5ad431af-da7a-48ae-aae0-f6ccad1cf429",
   "metadata": {},
   "source": [
    "#### 6.2. Number of Orders over Time"
   ]
  },
  {
   "cell_type": "code",
   "execution_count": 67,
   "id": "6318e4c4-3154-463a-b6bf-246862ece83f",
   "metadata": {},
   "outputs": [
    {
     "data": {
      "text/plain": [
       "Date  Date\n",
       "2019  1        90\n",
       "      2        92\n",
       "      3       106\n",
       "      4        97\n",
       "      5        91\n",
       "      6        85\n",
       "      7        86\n",
       "      8        92\n",
       "      9       112\n",
       "      10      129\n",
       "      11      150\n",
       "      12      133\n",
       "2020  1       207\n",
       "      2       225\n",
       "      3       246\n",
       "      4       237\n",
       "      5       210\n",
       "      6       207\n",
       "      7       198\n",
       "      8       225\n",
       "      9       273\n",
       "      10      300\n",
       "      11      351\n",
       "      12      321\n",
       "2021  1       303\n",
       "      2       310\n",
       "      3       295\n",
       "      4       269\n",
       "      5       254\n",
       "      6       228\n",
       "      7       292\n",
       "      8       292\n",
       "      9       333\n",
       "      10      363\n",
       "      11      407\n",
       "      12      393\n",
       "2022  1       306\n",
       "      2       357\n",
       "      3       352\n",
       "      4       286\n",
       "      5       232\n",
       "      6       261\n",
       "      7       281\n",
       "      8       364\n",
       "      9       430\n",
       "      10      459\n",
       "      11      426\n",
       "      12      381\n",
       "Name: Order ID, dtype: int64"
      ]
     },
     "execution_count": 67,
     "metadata": {},
     "output_type": "execute_result"
    }
   ],
   "source": [
    "order_year = ord['Date'].dt.year\n",
    "order_month = ord['Date'].dt.month\n",
    "\n",
    "orders_by_time = ord.groupby([order_year,order_month])['Order ID'].count()\n",
    "orders_by_time"
   ]
  },
  {
   "cell_type": "markdown",
   "id": "43c984b5-22b5-4e24-a6ed-86ba786361e6",
   "metadata": {},
   "source": [
    "#### 6.3. Most Ordered Category"
   ]
  },
  {
   "cell_type": "code",
   "execution_count": 68,
   "id": "469958cf-fae4-449f-a2b6-8b92a326d830",
   "metadata": {},
   "outputs": [
    {
     "data": {
      "text/plain": [
       "Category\n",
       "Toys & Games                                  8855\n",
       " Hobbies                                      1197\n",
       "Home & Kitchen                                 952\n",
       "Clothing, Shoes & Jewelry                      829\n",
       " Costumes                                      726\n",
       " Games & Accessories                           725\n",
       " Costumes & Accessories                        708\n",
       "Sports & Outdoors                              687\n",
       " Remote & App Controlled Vehicles & Parts      634\n",
       " Dress Up & Pretend Play                       601\n",
       "Name: count, dtype: int64"
      ]
     },
     "execution_count": 68,
     "metadata": {},
     "output_type": "execute_result"
    }
   ],
   "source": [
    "ord_cat['Category'].value_counts().head(10)"
   ]
  },
  {
   "cell_type": "markdown",
   "id": "ba12fb6d-d49c-403a-b6d8-8b9718d1394c",
   "metadata": {},
   "source": [
    "#### 6.4. States with most Orders"
   ]
  },
  {
   "cell_type": "code",
   "execution_count": 87,
   "id": "402330d5-4cf9-4a95-b9ba-17e9ffc87585",
   "metadata": {},
   "outputs": [
    {
     "data": {
      "text/html": [
       "<div>\n",
       "<style scoped>\n",
       "    .dataframe tbody tr th:only-of-type {\n",
       "        vertical-align: middle;\n",
       "    }\n",
       "\n",
       "    .dataframe tbody tr th {\n",
       "        vertical-align: top;\n",
       "    }\n",
       "\n",
       "    .dataframe thead th {\n",
       "        text-align: right;\n",
       "    }\n",
       "</style>\n",
       "<table border=\"1\" class=\"dataframe\">\n",
       "  <thead>\n",
       "    <tr style=\"text-align: right;\">\n",
       "      <th></th>\n",
       "      <th>Location</th>\n",
       "      <th>Count</th>\n",
       "      <th>Order Range</th>\n",
       "    </tr>\n",
       "  </thead>\n",
       "  <tbody>\n",
       "    <tr>\n",
       "      <th>0</th>\n",
       "      <td>Montana</td>\n",
       "      <td>319</td>\n",
       "      <td>&gt; 280</td>\n",
       "    </tr>\n",
       "    <tr>\n",
       "      <th>1</th>\n",
       "      <td>Illinois</td>\n",
       "      <td>296</td>\n",
       "      <td>&gt; 280</td>\n",
       "    </tr>\n",
       "    <tr>\n",
       "      <th>2</th>\n",
       "      <td>California</td>\n",
       "      <td>285</td>\n",
       "      <td>&gt; 280</td>\n",
       "    </tr>\n",
       "    <tr>\n",
       "      <th>3</th>\n",
       "      <td>Minnesota</td>\n",
       "      <td>284</td>\n",
       "      <td>&gt; 280</td>\n",
       "    </tr>\n",
       "    <tr>\n",
       "      <th>4</th>\n",
       "      <td>Vermont</td>\n",
       "      <td>268</td>\n",
       "      <td>250 - 280</td>\n",
       "    </tr>\n",
       "    <tr>\n",
       "      <th>5</th>\n",
       "      <td>Georgia</td>\n",
       "      <td>267</td>\n",
       "      <td>250 - 280</td>\n",
       "    </tr>\n",
       "    <tr>\n",
       "      <th>6</th>\n",
       "      <td>Alabama</td>\n",
       "      <td>267</td>\n",
       "      <td>250 - 280</td>\n",
       "    </tr>\n",
       "    <tr>\n",
       "      <th>7</th>\n",
       "      <td>Idaho</td>\n",
       "      <td>266</td>\n",
       "      <td>250 - 280</td>\n",
       "    </tr>\n",
       "    <tr>\n",
       "      <th>8</th>\n",
       "      <td>Mississippi</td>\n",
       "      <td>266</td>\n",
       "      <td>250 - 280</td>\n",
       "    </tr>\n",
       "    <tr>\n",
       "      <th>9</th>\n",
       "      <td>Maryland</td>\n",
       "      <td>264</td>\n",
       "      <td>250 - 280</td>\n",
       "    </tr>\n",
       "  </tbody>\n",
       "</table>\n",
       "</div>"
      ],
      "text/plain": [
       "      Location  Count Order Range\n",
       "0      Montana    319       > 280\n",
       "1     Illinois    296       > 280\n",
       "2   California    285       > 280\n",
       "3    Minnesota    284       > 280\n",
       "4      Vermont    268   250 - 280\n",
       "5      Georgia    267   250 - 280\n",
       "6      Alabama    267   250 - 280\n",
       "7        Idaho    266   250 - 280\n",
       "8  Mississippi    266   250 - 280\n",
       "9     Maryland    264   250 - 280"
      ]
     },
     "execution_count": 87,
     "metadata": {},
     "output_type": "execute_result"
    }
   ],
   "source": [
    "loca = ord_cus['Location'].value_counts()\n",
    "loca = loca.reset_index()\n",
    "loca.columns = ['Location', 'Count']\n",
    "loca['Order Range'] = pd.cut(loca['Count'], [0,190,220,250,280,319], labels = ['< 190', '190 - 220', '220 - 250', '250 - 280', '> 280'])\n",
    "loca.head(10)"
   ]
  }
 ],
 "metadata": {
  "kernelspec": {
   "display_name": "Python 3 (ipykernel)",
   "language": "python",
   "name": "python3"
  },
  "language_info": {
   "codemirror_mode": {
    "name": "ipython",
    "version": 3
   },
   "file_extension": ".py",
   "mimetype": "text/x-python",
   "name": "python",
   "nbconvert_exporter": "python",
   "pygments_lexer": "ipython3",
   "version": "3.11.7"
  }
 },
 "nbformat": 4,
 "nbformat_minor": 5
}
